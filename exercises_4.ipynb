{
 "cells": [
  {
   "cell_type": "code",
   "execution_count": 47,
   "metadata": {
    "vscode": {
     "languageId": "r"
    }
   },
   "outputs": [],
   "source": [
    "library(readr)\n",
    "library(tidyverse)"
   ]
  },
  {
   "cell_type": "code",
   "execution_count": 48,
   "metadata": {
    "vscode": {
     "languageId": "r"
    }
   },
   "outputs": [],
   "source": [
    "options(warn=-1)"
   ]
  },
  {
   "cell_type": "code",
   "execution_count": 49,
   "metadata": {
    "vscode": {
     "languageId": "r"
    }
   },
   "outputs": [
    {
     "name": "stderr",
     "output_type": "stream",
     "text": [
      "Parsed with column specification:\n",
      "cols(\n",
      "  country_region_code = col_character(),\n",
      "  country_region = col_character(),\n",
      "  sub_region_1 = col_character(),\n",
      "  sub_region_2 = col_logical(),\n",
      "  metro_area = col_logical(),\n",
      "  iso_3166_2_code = col_character(),\n",
      "  census_fips_code = col_logical(),\n",
      "  place_id = col_character(),\n",
      "  date = col_date(format = \"\"),\n",
      "  retail_and_recreation_percent_change_from_baseline = col_double(),\n",
      "  grocery_and_pharmacy_percent_change_from_baseline = col_double(),\n",
      "  parks_percent_change_from_baseline = col_double(),\n",
      "  transit_stations_percent_change_from_baseline = col_double(),\n",
      "  workplaces_percent_change_from_baseline = col_double(),\n",
      "  residential_percent_change_from_baseline = col_double()\n",
      ")\n"
     ]
    }
   ],
   "source": [
    "df_1 <- read_csv(url('https://www.gstatic.com/covid19/mobility/Global_Mobility_Report.csv'))\n",
    "\n"
   ]
  },
  {
   "cell_type": "code",
   "execution_count": 50,
   "metadata": {
    "vscode": {
     "languageId": "r"
    }
   },
   "outputs": [
    {
     "data": {
      "text/html": [
       "<table>\n",
       "<thead><tr><th scope=col>country_region_code</th><th scope=col>country_region</th><th scope=col>sub_region_1</th><th scope=col>sub_region_2</th><th scope=col>metro_area</th><th scope=col>iso_3166_2_code</th><th scope=col>census_fips_code</th><th scope=col>place_id</th><th scope=col>date</th><th scope=col>retail_and_recreation_percent_change_from_baseline</th><th scope=col>grocery_and_pharmacy_percent_change_from_baseline</th><th scope=col>parks_percent_change_from_baseline</th><th scope=col>transit_stations_percent_change_from_baseline</th><th scope=col>workplaces_percent_change_from_baseline</th><th scope=col>residential_percent_change_from_baseline</th></tr></thead>\n",
       "<tbody>\n",
       "\t<tr><td>AE                         </td><td>United Arab Emirates       </td><td>NA                         </td><td>NA                         </td><td>NA                         </td><td>NA                         </td><td>NA                         </td><td>ChIJvRKrsd9IXj4RpwoIwFYv0zM</td><td>2020-02-15                 </td><td> 0                         </td><td>4                          </td><td>5                          </td><td> 0                         </td><td>2                          </td><td>1                          </td></tr>\n",
       "\t<tr><td>AE                         </td><td>United Arab Emirates       </td><td>NA                         </td><td>NA                         </td><td>NA                         </td><td>NA                         </td><td>NA                         </td><td>ChIJvRKrsd9IXj4RpwoIwFYv0zM</td><td>2020-02-16                 </td><td> 1                         </td><td>4                          </td><td>4                          </td><td> 1                         </td><td>2                          </td><td>1                          </td></tr>\n",
       "\t<tr><td>AE                         </td><td>United Arab Emirates       </td><td>NA                         </td><td>NA                         </td><td>NA                         </td><td>NA                         </td><td>NA                         </td><td>ChIJvRKrsd9IXj4RpwoIwFYv0zM</td><td>2020-02-17                 </td><td>-1                         </td><td>1                          </td><td>5                          </td><td> 1                         </td><td>2                          </td><td>1                          </td></tr>\n",
       "\t<tr><td>AE                         </td><td>United Arab Emirates       </td><td>NA                         </td><td>NA                         </td><td>NA                         </td><td>NA                         </td><td>NA                         </td><td>ChIJvRKrsd9IXj4RpwoIwFYv0zM</td><td>2020-02-18                 </td><td>-2                         </td><td>1                          </td><td>5                          </td><td> 0                         </td><td>2                          </td><td>1                          </td></tr>\n",
       "\t<tr><td>AE                         </td><td>United Arab Emirates       </td><td>NA                         </td><td>NA                         </td><td>NA                         </td><td>NA                         </td><td>NA                         </td><td>ChIJvRKrsd9IXj4RpwoIwFYv0zM</td><td>2020-02-19                 </td><td>-2                         </td><td>0                          </td><td>4                          </td><td>-1                         </td><td>2                          </td><td>1                          </td></tr>\n",
       "\t<tr><td>AE                         </td><td>United Arab Emirates       </td><td>NA                         </td><td>NA                         </td><td>NA                         </td><td>NA                         </td><td>NA                         </td><td>ChIJvRKrsd9IXj4RpwoIwFYv0zM</td><td>2020-02-20                 </td><td>-2                         </td><td>1                          </td><td>6                          </td><td> 1                         </td><td>1                          </td><td>1                          </td></tr>\n",
       "</tbody>\n",
       "</table>\n"
      ],
      "text/latex": [
       "\\begin{tabular}{r|lllllllllllllll}\n",
       " country\\_region\\_code & country\\_region & sub\\_region\\_1 & sub\\_region\\_2 & metro\\_area & iso\\_3166\\_2\\_code & census\\_fips\\_code & place\\_id & date & retail\\_and\\_recreation\\_percent\\_change\\_from\\_baseline & grocery\\_and\\_pharmacy\\_percent\\_change\\_from\\_baseline & parks\\_percent\\_change\\_from\\_baseline & transit\\_stations\\_percent\\_change\\_from\\_baseline & workplaces\\_percent\\_change\\_from\\_baseline & residential\\_percent\\_change\\_from\\_baseline\\\\\n",
       "\\hline\n",
       "\t AE                          & United Arab Emirates        & NA                          & NA                          & NA                          & NA                          & NA                          & ChIJvRKrsd9IXj4RpwoIwFYv0zM & 2020-02-15                  &  0                          & 4                           & 5                           &  0                          & 2                           & 1                          \\\\\n",
       "\t AE                          & United Arab Emirates        & NA                          & NA                          & NA                          & NA                          & NA                          & ChIJvRKrsd9IXj4RpwoIwFYv0zM & 2020-02-16                  &  1                          & 4                           & 4                           &  1                          & 2                           & 1                          \\\\\n",
       "\t AE                          & United Arab Emirates        & NA                          & NA                          & NA                          & NA                          & NA                          & ChIJvRKrsd9IXj4RpwoIwFYv0zM & 2020-02-17                  & -1                          & 1                           & 5                           &  1                          & 2                           & 1                          \\\\\n",
       "\t AE                          & United Arab Emirates        & NA                          & NA                          & NA                          & NA                          & NA                          & ChIJvRKrsd9IXj4RpwoIwFYv0zM & 2020-02-18                  & -2                          & 1                           & 5                           &  0                          & 2                           & 1                          \\\\\n",
       "\t AE                          & United Arab Emirates        & NA                          & NA                          & NA                          & NA                          & NA                          & ChIJvRKrsd9IXj4RpwoIwFYv0zM & 2020-02-19                  & -2                          & 0                           & 4                           & -1                          & 2                           & 1                          \\\\\n",
       "\t AE                          & United Arab Emirates        & NA                          & NA                          & NA                          & NA                          & NA                          & ChIJvRKrsd9IXj4RpwoIwFYv0zM & 2020-02-20                  & -2                          & 1                           & 6                           &  1                          & 1                           & 1                          \\\\\n",
       "\\end{tabular}\n"
      ],
      "text/markdown": [
       "\n",
       "| country_region_code | country_region | sub_region_1 | sub_region_2 | metro_area | iso_3166_2_code | census_fips_code | place_id | date | retail_and_recreation_percent_change_from_baseline | grocery_and_pharmacy_percent_change_from_baseline | parks_percent_change_from_baseline | transit_stations_percent_change_from_baseline | workplaces_percent_change_from_baseline | residential_percent_change_from_baseline |\n",
       "|---|---|---|---|---|---|---|---|---|---|---|---|---|---|---|\n",
       "| AE                          | United Arab Emirates        | NA                          | NA                          | NA                          | NA                          | NA                          | ChIJvRKrsd9IXj4RpwoIwFYv0zM | 2020-02-15                  |  0                          | 4                           | 5                           |  0                          | 2                           | 1                           |\n",
       "| AE                          | United Arab Emirates        | NA                          | NA                          | NA                          | NA                          | NA                          | ChIJvRKrsd9IXj4RpwoIwFYv0zM | 2020-02-16                  |  1                          | 4                           | 4                           |  1                          | 2                           | 1                           |\n",
       "| AE                          | United Arab Emirates        | NA                          | NA                          | NA                          | NA                          | NA                          | ChIJvRKrsd9IXj4RpwoIwFYv0zM | 2020-02-17                  | -1                          | 1                           | 5                           |  1                          | 2                           | 1                           |\n",
       "| AE                          | United Arab Emirates        | NA                          | NA                          | NA                          | NA                          | NA                          | ChIJvRKrsd9IXj4RpwoIwFYv0zM | 2020-02-18                  | -2                          | 1                           | 5                           |  0                          | 2                           | 1                           |\n",
       "| AE                          | United Arab Emirates        | NA                          | NA                          | NA                          | NA                          | NA                          | ChIJvRKrsd9IXj4RpwoIwFYv0zM | 2020-02-19                  | -2                          | 0                           | 4                           | -1                          | 2                           | 1                           |\n",
       "| AE                          | United Arab Emirates        | NA                          | NA                          | NA                          | NA                          | NA                          | ChIJvRKrsd9IXj4RpwoIwFYv0zM | 2020-02-20                  | -2                          | 1                           | 6                           |  1                          | 1                           | 1                           |\n",
       "\n"
      ],
      "text/plain": [
       "  country_region_code country_region       sub_region_1 sub_region_2 metro_area\n",
       "1 AE                  United Arab Emirates NA           NA           NA        \n",
       "2 AE                  United Arab Emirates NA           NA           NA        \n",
       "3 AE                  United Arab Emirates NA           NA           NA        \n",
       "4 AE                  United Arab Emirates NA           NA           NA        \n",
       "5 AE                  United Arab Emirates NA           NA           NA        \n",
       "6 AE                  United Arab Emirates NA           NA           NA        \n",
       "  iso_3166_2_code census_fips_code place_id                    date      \n",
       "1 NA              NA               ChIJvRKrsd9IXj4RpwoIwFYv0zM 2020-02-15\n",
       "2 NA              NA               ChIJvRKrsd9IXj4RpwoIwFYv0zM 2020-02-16\n",
       "3 NA              NA               ChIJvRKrsd9IXj4RpwoIwFYv0zM 2020-02-17\n",
       "4 NA              NA               ChIJvRKrsd9IXj4RpwoIwFYv0zM 2020-02-18\n",
       "5 NA              NA               ChIJvRKrsd9IXj4RpwoIwFYv0zM 2020-02-19\n",
       "6 NA              NA               ChIJvRKrsd9IXj4RpwoIwFYv0zM 2020-02-20\n",
       "  retail_and_recreation_percent_change_from_baseline\n",
       "1  0                                                \n",
       "2  1                                                \n",
       "3 -1                                                \n",
       "4 -2                                                \n",
       "5 -2                                                \n",
       "6 -2                                                \n",
       "  grocery_and_pharmacy_percent_change_from_baseline\n",
       "1 4                                                \n",
       "2 4                                                \n",
       "3 1                                                \n",
       "4 1                                                \n",
       "5 0                                                \n",
       "6 1                                                \n",
       "  parks_percent_change_from_baseline\n",
       "1 5                                 \n",
       "2 4                                 \n",
       "3 5                                 \n",
       "4 5                                 \n",
       "5 4                                 \n",
       "6 6                                 \n",
       "  transit_stations_percent_change_from_baseline\n",
       "1  0                                           \n",
       "2  1                                           \n",
       "3  1                                           \n",
       "4  0                                           \n",
       "5 -1                                           \n",
       "6  1                                           \n",
       "  workplaces_percent_change_from_baseline\n",
       "1 2                                      \n",
       "2 2                                      \n",
       "3 2                                      \n",
       "4 2                                      \n",
       "5 2                                      \n",
       "6 1                                      \n",
       "  residential_percent_change_from_baseline\n",
       "1 1                                       \n",
       "2 1                                       \n",
       "3 1                                       \n",
       "4 1                                       \n",
       "5 1                                       \n",
       "6 1                                       "
      ]
     },
     "metadata": {},
     "output_type": "display_data"
    }
   ],
   "source": [
    "head(df_1)"
   ]
  },
  {
   "cell_type": "code",
   "execution_count": 51,
   "metadata": {
    "vscode": {
     "languageId": "r"
    }
   },
   "outputs": [],
   "source": [
    "df_1$week <- week(df_1$date)"
   ]
  },
  {
   "cell_type": "code",
   "execution_count": 52,
   "metadata": {
    "vscode": {
     "languageId": "r"
    }
   },
   "outputs": [
    {
     "data": {
      "text/html": [
       "<table>\n",
       "<thead><tr><th scope=col>country_region_code</th><th scope=col>country_region</th><th scope=col>sub_region_1</th><th scope=col>sub_region_2</th><th scope=col>metro_area</th><th scope=col>iso_3166_2_code</th><th scope=col>census_fips_code</th><th scope=col>place_id</th><th scope=col>date</th><th scope=col>retail_and_recreation_percent_change_from_baseline</th><th scope=col>grocery_and_pharmacy_percent_change_from_baseline</th><th scope=col>parks_percent_change_from_baseline</th><th scope=col>transit_stations_percent_change_from_baseline</th><th scope=col>workplaces_percent_change_from_baseline</th><th scope=col>residential_percent_change_from_baseline</th><th scope=col>week</th></tr></thead>\n",
       "<tbody>\n",
       "\t<tr><td>AE                         </td><td>United Arab Emirates       </td><td>NA                         </td><td>NA                         </td><td>NA                         </td><td>NA                         </td><td>NA                         </td><td>ChIJvRKrsd9IXj4RpwoIwFYv0zM</td><td>2020-02-15                 </td><td> 0                         </td><td>4                          </td><td>5                          </td><td> 0                         </td><td>2                          </td><td>1                          </td><td>7                          </td></tr>\n",
       "\t<tr><td>AE                         </td><td>United Arab Emirates       </td><td>NA                         </td><td>NA                         </td><td>NA                         </td><td>NA                         </td><td>NA                         </td><td>ChIJvRKrsd9IXj4RpwoIwFYv0zM</td><td>2020-02-16                 </td><td> 1                         </td><td>4                          </td><td>4                          </td><td> 1                         </td><td>2                          </td><td>1                          </td><td>7                          </td></tr>\n",
       "\t<tr><td>AE                         </td><td>United Arab Emirates       </td><td>NA                         </td><td>NA                         </td><td>NA                         </td><td>NA                         </td><td>NA                         </td><td>ChIJvRKrsd9IXj4RpwoIwFYv0zM</td><td>2020-02-17                 </td><td>-1                         </td><td>1                          </td><td>5                          </td><td> 1                         </td><td>2                          </td><td>1                          </td><td>7                          </td></tr>\n",
       "\t<tr><td>AE                         </td><td>United Arab Emirates       </td><td>NA                         </td><td>NA                         </td><td>NA                         </td><td>NA                         </td><td>NA                         </td><td>ChIJvRKrsd9IXj4RpwoIwFYv0zM</td><td>2020-02-18                 </td><td>-2                         </td><td>1                          </td><td>5                          </td><td> 0                         </td><td>2                          </td><td>1                          </td><td>7                          </td></tr>\n",
       "\t<tr><td>AE                         </td><td>United Arab Emirates       </td><td>NA                         </td><td>NA                         </td><td>NA                         </td><td>NA                         </td><td>NA                         </td><td>ChIJvRKrsd9IXj4RpwoIwFYv0zM</td><td>2020-02-19                 </td><td>-2                         </td><td>0                          </td><td>4                          </td><td>-1                         </td><td>2                          </td><td>1                          </td><td>8                          </td></tr>\n",
       "</tbody>\n",
       "</table>\n"
      ],
      "text/latex": [
       "\\begin{tabular}{r|llllllllllllllll}\n",
       " country\\_region\\_code & country\\_region & sub\\_region\\_1 & sub\\_region\\_2 & metro\\_area & iso\\_3166\\_2\\_code & census\\_fips\\_code & place\\_id & date & retail\\_and\\_recreation\\_percent\\_change\\_from\\_baseline & grocery\\_and\\_pharmacy\\_percent\\_change\\_from\\_baseline & parks\\_percent\\_change\\_from\\_baseline & transit\\_stations\\_percent\\_change\\_from\\_baseline & workplaces\\_percent\\_change\\_from\\_baseline & residential\\_percent\\_change\\_from\\_baseline & week\\\\\n",
       "\\hline\n",
       "\t AE                          & United Arab Emirates        & NA                          & NA                          & NA                          & NA                          & NA                          & ChIJvRKrsd9IXj4RpwoIwFYv0zM & 2020-02-15                  &  0                          & 4                           & 5                           &  0                          & 2                           & 1                           & 7                          \\\\\n",
       "\t AE                          & United Arab Emirates        & NA                          & NA                          & NA                          & NA                          & NA                          & ChIJvRKrsd9IXj4RpwoIwFYv0zM & 2020-02-16                  &  1                          & 4                           & 4                           &  1                          & 2                           & 1                           & 7                          \\\\\n",
       "\t AE                          & United Arab Emirates        & NA                          & NA                          & NA                          & NA                          & NA                          & ChIJvRKrsd9IXj4RpwoIwFYv0zM & 2020-02-17                  & -1                          & 1                           & 5                           &  1                          & 2                           & 1                           & 7                          \\\\\n",
       "\t AE                          & United Arab Emirates        & NA                          & NA                          & NA                          & NA                          & NA                          & ChIJvRKrsd9IXj4RpwoIwFYv0zM & 2020-02-18                  & -2                          & 1                           & 5                           &  0                          & 2                           & 1                           & 7                          \\\\\n",
       "\t AE                          & United Arab Emirates        & NA                          & NA                          & NA                          & NA                          & NA                          & ChIJvRKrsd9IXj4RpwoIwFYv0zM & 2020-02-19                  & -2                          & 0                           & 4                           & -1                          & 2                           & 1                           & 8                          \\\\\n",
       "\\end{tabular}\n"
      ],
      "text/markdown": [
       "\n",
       "| country_region_code | country_region | sub_region_1 | sub_region_2 | metro_area | iso_3166_2_code | census_fips_code | place_id | date | retail_and_recreation_percent_change_from_baseline | grocery_and_pharmacy_percent_change_from_baseline | parks_percent_change_from_baseline | transit_stations_percent_change_from_baseline | workplaces_percent_change_from_baseline | residential_percent_change_from_baseline | week |\n",
       "|---|---|---|---|---|---|---|---|---|---|---|---|---|---|---|---|\n",
       "| AE                          | United Arab Emirates        | NA                          | NA                          | NA                          | NA                          | NA                          | ChIJvRKrsd9IXj4RpwoIwFYv0zM | 2020-02-15                  |  0                          | 4                           | 5                           |  0                          | 2                           | 1                           | 7                           |\n",
       "| AE                          | United Arab Emirates        | NA                          | NA                          | NA                          | NA                          | NA                          | ChIJvRKrsd9IXj4RpwoIwFYv0zM | 2020-02-16                  |  1                          | 4                           | 4                           |  1                          | 2                           | 1                           | 7                           |\n",
       "| AE                          | United Arab Emirates        | NA                          | NA                          | NA                          | NA                          | NA                          | ChIJvRKrsd9IXj4RpwoIwFYv0zM | 2020-02-17                  | -1                          | 1                           | 5                           |  1                          | 2                           | 1                           | 7                           |\n",
       "| AE                          | United Arab Emirates        | NA                          | NA                          | NA                          | NA                          | NA                          | ChIJvRKrsd9IXj4RpwoIwFYv0zM | 2020-02-18                  | -2                          | 1                           | 5                           |  0                          | 2                           | 1                           | 7                           |\n",
       "| AE                          | United Arab Emirates        | NA                          | NA                          | NA                          | NA                          | NA                          | ChIJvRKrsd9IXj4RpwoIwFYv0zM | 2020-02-19                  | -2                          | 0                           | 4                           | -1                          | 2                           | 1                           | 8                           |\n",
       "\n"
      ],
      "text/plain": [
       "  country_region_code country_region       sub_region_1 sub_region_2 metro_area\n",
       "1 AE                  United Arab Emirates NA           NA           NA        \n",
       "2 AE                  United Arab Emirates NA           NA           NA        \n",
       "3 AE                  United Arab Emirates NA           NA           NA        \n",
       "4 AE                  United Arab Emirates NA           NA           NA        \n",
       "5 AE                  United Arab Emirates NA           NA           NA        \n",
       "  iso_3166_2_code census_fips_code place_id                    date      \n",
       "1 NA              NA               ChIJvRKrsd9IXj4RpwoIwFYv0zM 2020-02-15\n",
       "2 NA              NA               ChIJvRKrsd9IXj4RpwoIwFYv0zM 2020-02-16\n",
       "3 NA              NA               ChIJvRKrsd9IXj4RpwoIwFYv0zM 2020-02-17\n",
       "4 NA              NA               ChIJvRKrsd9IXj4RpwoIwFYv0zM 2020-02-18\n",
       "5 NA              NA               ChIJvRKrsd9IXj4RpwoIwFYv0zM 2020-02-19\n",
       "  retail_and_recreation_percent_change_from_baseline\n",
       "1  0                                                \n",
       "2  1                                                \n",
       "3 -1                                                \n",
       "4 -2                                                \n",
       "5 -2                                                \n",
       "  grocery_and_pharmacy_percent_change_from_baseline\n",
       "1 4                                                \n",
       "2 4                                                \n",
       "3 1                                                \n",
       "4 1                                                \n",
       "5 0                                                \n",
       "  parks_percent_change_from_baseline\n",
       "1 5                                 \n",
       "2 4                                 \n",
       "3 5                                 \n",
       "4 5                                 \n",
       "5 4                                 \n",
       "  transit_stations_percent_change_from_baseline\n",
       "1  0                                           \n",
       "2  1                                           \n",
       "3  1                                           \n",
       "4  0                                           \n",
       "5 -1                                           \n",
       "  workplaces_percent_change_from_baseline\n",
       "1 2                                      \n",
       "2 2                                      \n",
       "3 2                                      \n",
       "4 2                                      \n",
       "5 2                                      \n",
       "  residential_percent_change_from_baseline week\n",
       "1 1                                        7   \n",
       "2 1                                        7   \n",
       "3 1                                        7   \n",
       "4 1                                        7   \n",
       "5 1                                        8   "
      ]
     },
     "metadata": {},
     "output_type": "display_data"
    }
   ],
   "source": [
    "head(df_1, 5)"
   ]
  },
  {
   "cell_type": "code",
   "execution_count": 53,
   "metadata": {
    "vscode": {
     "languageId": "r"
    }
   },
   "outputs": [],
   "source": [
    "df_spain <- df_1[df_1$country_region == 'Spain',]\n",
    "df_italy <- df_1[df_1$country_region == 'Italy',]\n",
    "df_norway <- df_1[df_1$country_region == 'Norway',]"
   ]
  },
  {
   "cell_type": "code",
   "execution_count": 54,
   "metadata": {
    "vscode": {
     "languageId": "r"
    }
   },
   "outputs": [
    {
     "data": {
      "text/html": [
       "<table>\n",
       "<thead><tr><th scope=col>country_region_code</th><th scope=col>country_region</th><th scope=col>sub_region_1</th><th scope=col>sub_region_2</th><th scope=col>metro_area</th><th scope=col>iso_3166_2_code</th><th scope=col>census_fips_code</th><th scope=col>place_id</th><th scope=col>date</th><th scope=col>retail_and_recreation_percent_change_from_baseline</th><th scope=col>grocery_and_pharmacy_percent_change_from_baseline</th><th scope=col>parks_percent_change_from_baseline</th><th scope=col>transit_stations_percent_change_from_baseline</th><th scope=col>workplaces_percent_change_from_baseline</th><th scope=col>residential_percent_change_from_baseline</th><th scope=col>week</th></tr></thead>\n",
       "<tbody>\n",
       "\t<tr><td>NO                         </td><td>Norway                     </td><td>NA                         </td><td>NA                         </td><td>NA                         </td><td>NA                         </td><td>NA                         </td><td>ChIJv-VNj0VoEkYRK9BkuJ07sKE</td><td>2020-02-15                 </td><td> 1                         </td><td> 1                         </td><td> 26                        </td><td> 7                         </td><td> -1                        </td><td>-1                         </td><td>7                          </td></tr>\n",
       "\t<tr><td>NO                         </td><td>Norway                     </td><td>NA                         </td><td>NA                         </td><td>NA                         </td><td>NA                         </td><td>NA                         </td><td>ChIJv-VNj0VoEkYRK9BkuJ07sKE</td><td>2020-02-16                 </td><td>-5                         </td><td> 3                         </td><td>-34                        </td><td>-5                         </td><td> -3                        </td><td> 1                         </td><td>7                          </td></tr>\n",
       "\t<tr><td>NO                         </td><td>Norway                     </td><td>NA                         </td><td>NA                         </td><td>NA                         </td><td>NA                         </td><td>NA                         </td><td>ChIJv-VNj0VoEkYRK9BkuJ07sKE</td><td>2020-02-17                 </td><td> 2                         </td><td> 0                         </td><td> 13                        </td><td>-5                         </td><td>-12                        </td><td> 2                         </td><td>7                          </td></tr>\n",
       "\t<tr><td>NO                         </td><td>Norway                     </td><td>NA                         </td><td>NA                         </td><td>NA                         </td><td>NA                         </td><td>NA                         </td><td>ChIJv-VNj0VoEkYRK9BkuJ07sKE</td><td>2020-02-18                 </td><td> 3                         </td><td>-1                         </td><td> 15                        </td><td>-5                         </td><td>-11                        </td><td> 1                         </td><td>7                          </td></tr>\n",
       "\t<tr><td>NO                         </td><td>Norway                     </td><td>NA                         </td><td>NA                         </td><td>NA                         </td><td>NA                         </td><td>NA                         </td><td>ChIJv-VNj0VoEkYRK9BkuJ07sKE</td><td>2020-02-19                 </td><td> 6                         </td><td> 4                         </td><td> 49                        </td><td>-1                         </td><td>-12                        </td><td> 0                         </td><td>8                          </td></tr>\n",
       "\t<tr><td>NO                         </td><td>Norway                     </td><td>NA                         </td><td>NA                         </td><td>NA                         </td><td>NA                         </td><td>NA                         </td><td>ChIJv-VNj0VoEkYRK9BkuJ07sKE</td><td>2020-02-20                 </td><td>-1                         </td><td>-2                         </td><td> -4                        </td><td>-9                         </td><td>-14                        </td><td> 2                         </td><td>8                          </td></tr>\n",
       "</tbody>\n",
       "</table>\n"
      ],
      "text/latex": [
       "\\begin{tabular}{r|llllllllllllllll}\n",
       " country\\_region\\_code & country\\_region & sub\\_region\\_1 & sub\\_region\\_2 & metro\\_area & iso\\_3166\\_2\\_code & census\\_fips\\_code & place\\_id & date & retail\\_and\\_recreation\\_percent\\_change\\_from\\_baseline & grocery\\_and\\_pharmacy\\_percent\\_change\\_from\\_baseline & parks\\_percent\\_change\\_from\\_baseline & transit\\_stations\\_percent\\_change\\_from\\_baseline & workplaces\\_percent\\_change\\_from\\_baseline & residential\\_percent\\_change\\_from\\_baseline & week\\\\\n",
       "\\hline\n",
       "\t NO                          & Norway                      & NA                          & NA                          & NA                          & NA                          & NA                          & ChIJv-VNj0VoEkYRK9BkuJ07sKE & 2020-02-15                  &  1                          &  1                          &  26                         &  7                          &  -1                         & -1                          & 7                          \\\\\n",
       "\t NO                          & Norway                      & NA                          & NA                          & NA                          & NA                          & NA                          & ChIJv-VNj0VoEkYRK9BkuJ07sKE & 2020-02-16                  & -5                          &  3                          & -34                         & -5                          &  -3                         &  1                          & 7                          \\\\\n",
       "\t NO                          & Norway                      & NA                          & NA                          & NA                          & NA                          & NA                          & ChIJv-VNj0VoEkYRK9BkuJ07sKE & 2020-02-17                  &  2                          &  0                          &  13                         & -5                          & -12                         &  2                          & 7                          \\\\\n",
       "\t NO                          & Norway                      & NA                          & NA                          & NA                          & NA                          & NA                          & ChIJv-VNj0VoEkYRK9BkuJ07sKE & 2020-02-18                  &  3                          & -1                          &  15                         & -5                          & -11                         &  1                          & 7                          \\\\\n",
       "\t NO                          & Norway                      & NA                          & NA                          & NA                          & NA                          & NA                          & ChIJv-VNj0VoEkYRK9BkuJ07sKE & 2020-02-19                  &  6                          &  4                          &  49                         & -1                          & -12                         &  0                          & 8                          \\\\\n",
       "\t NO                          & Norway                      & NA                          & NA                          & NA                          & NA                          & NA                          & ChIJv-VNj0VoEkYRK9BkuJ07sKE & 2020-02-20                  & -1                          & -2                          &  -4                         & -9                          & -14                         &  2                          & 8                          \\\\\n",
       "\\end{tabular}\n"
      ],
      "text/markdown": [
       "\n",
       "| country_region_code | country_region | sub_region_1 | sub_region_2 | metro_area | iso_3166_2_code | census_fips_code | place_id | date | retail_and_recreation_percent_change_from_baseline | grocery_and_pharmacy_percent_change_from_baseline | parks_percent_change_from_baseline | transit_stations_percent_change_from_baseline | workplaces_percent_change_from_baseline | residential_percent_change_from_baseline | week |\n",
       "|---|---|---|---|---|---|---|---|---|---|---|---|---|---|---|---|\n",
       "| NO                          | Norway                      | NA                          | NA                          | NA                          | NA                          | NA                          | ChIJv-VNj0VoEkYRK9BkuJ07sKE | 2020-02-15                  |  1                          |  1                          |  26                         |  7                          |  -1                         | -1                          | 7                           |\n",
       "| NO                          | Norway                      | NA                          | NA                          | NA                          | NA                          | NA                          | ChIJv-VNj0VoEkYRK9BkuJ07sKE | 2020-02-16                  | -5                          |  3                          | -34                         | -5                          |  -3                         |  1                          | 7                           |\n",
       "| NO                          | Norway                      | NA                          | NA                          | NA                          | NA                          | NA                          | ChIJv-VNj0VoEkYRK9BkuJ07sKE | 2020-02-17                  |  2                          |  0                          |  13                         | -5                          | -12                         |  2                          | 7                           |\n",
       "| NO                          | Norway                      | NA                          | NA                          | NA                          | NA                          | NA                          | ChIJv-VNj0VoEkYRK9BkuJ07sKE | 2020-02-18                  |  3                          | -1                          |  15                         | -5                          | -11                         |  1                          | 7                           |\n",
       "| NO                          | Norway                      | NA                          | NA                          | NA                          | NA                          | NA                          | ChIJv-VNj0VoEkYRK9BkuJ07sKE | 2020-02-19                  |  6                          |  4                          |  49                         | -1                          | -12                         |  0                          | 8                           |\n",
       "| NO                          | Norway                      | NA                          | NA                          | NA                          | NA                          | NA                          | ChIJv-VNj0VoEkYRK9BkuJ07sKE | 2020-02-20                  | -1                          | -2                          |  -4                         | -9                          | -14                         |  2                          | 8                           |\n",
       "\n"
      ],
      "text/plain": [
       "  country_region_code country_region sub_region_1 sub_region_2 metro_area\n",
       "1 NO                  Norway         NA           NA           NA        \n",
       "2 NO                  Norway         NA           NA           NA        \n",
       "3 NO                  Norway         NA           NA           NA        \n",
       "4 NO                  Norway         NA           NA           NA        \n",
       "5 NO                  Norway         NA           NA           NA        \n",
       "6 NO                  Norway         NA           NA           NA        \n",
       "  iso_3166_2_code census_fips_code place_id                    date      \n",
       "1 NA              NA               ChIJv-VNj0VoEkYRK9BkuJ07sKE 2020-02-15\n",
       "2 NA              NA               ChIJv-VNj0VoEkYRK9BkuJ07sKE 2020-02-16\n",
       "3 NA              NA               ChIJv-VNj0VoEkYRK9BkuJ07sKE 2020-02-17\n",
       "4 NA              NA               ChIJv-VNj0VoEkYRK9BkuJ07sKE 2020-02-18\n",
       "5 NA              NA               ChIJv-VNj0VoEkYRK9BkuJ07sKE 2020-02-19\n",
       "6 NA              NA               ChIJv-VNj0VoEkYRK9BkuJ07sKE 2020-02-20\n",
       "  retail_and_recreation_percent_change_from_baseline\n",
       "1  1                                                \n",
       "2 -5                                                \n",
       "3  2                                                \n",
       "4  3                                                \n",
       "5  6                                                \n",
       "6 -1                                                \n",
       "  grocery_and_pharmacy_percent_change_from_baseline\n",
       "1  1                                               \n",
       "2  3                                               \n",
       "3  0                                               \n",
       "4 -1                                               \n",
       "5  4                                               \n",
       "6 -2                                               \n",
       "  parks_percent_change_from_baseline\n",
       "1  26                               \n",
       "2 -34                               \n",
       "3  13                               \n",
       "4  15                               \n",
       "5  49                               \n",
       "6  -4                               \n",
       "  transit_stations_percent_change_from_baseline\n",
       "1  7                                           \n",
       "2 -5                                           \n",
       "3 -5                                           \n",
       "4 -5                                           \n",
       "5 -1                                           \n",
       "6 -9                                           \n",
       "  workplaces_percent_change_from_baseline\n",
       "1  -1                                    \n",
       "2  -3                                    \n",
       "3 -12                                    \n",
       "4 -11                                    \n",
       "5 -12                                    \n",
       "6 -14                                    \n",
       "  residential_percent_change_from_baseline week\n",
       "1 -1                                       7   \n",
       "2  1                                       7   \n",
       "3  2                                       7   \n",
       "4  1                                       7   \n",
       "5  0                                       8   \n",
       "6  2                                       8   "
      ]
     },
     "metadata": {},
     "output_type": "display_data"
    }
   ],
   "source": [
    "head(df_norway)"
   ]
  },
  {
   "cell_type": "code",
   "execution_count": 61,
   "metadata": {
    "vscode": {
     "languageId": "r"
    }
   },
   "outputs": [],
   "source": [
    "tmp <- summarise_at(group_by(df_italy, week), vars(retail_and_recreation_percent_change_from_baseline), funs(mean(., na.rm=TRUE)))"
   ]
  },
  {
   "cell_type": "code",
   "execution_count": null,
   "metadata": {
    "vscode": {
     "languageId": "r"
    }
   },
   "outputs": [],
   "source": [
    "\n"
   ]
  },
  {
   "cell_type": "code",
   "execution_count": null,
   "metadata": {
    "vscode": {
     "languageId": "r"
    }
   },
   "outputs": [],
   "source": []
  },
  {
   "cell_type": "code",
   "execution_count": 62,
   "metadata": {
    "vscode": {
     "languageId": "r"
    }
   },
   "outputs": [
    {
     "data": {
      "text/html": [
       "<table>\n",
       "<thead><tr><th scope=col>week</th><th scope=col>retail_and_recreation_percent_change_from_baseline</th></tr></thead>\n",
       "<tbody>\n",
       "\t<tr><td> 1        </td><td>-38.790776</td></tr>\n",
       "\t<tr><td> 2        </td><td>-30.595613</td></tr>\n",
       "\t<tr><td> 3        </td><td>-31.397075</td></tr>\n",
       "\t<tr><td> 4        </td><td>-30.713723</td></tr>\n",
       "\t<tr><td> 5        </td><td>-25.446007</td></tr>\n",
       "\t<tr><td> 6        </td><td>-22.491564</td></tr>\n",
       "\t<tr><td> 7        </td><td>-16.158355</td></tr>\n",
       "\t<tr><td> 8        </td><td>-14.163480</td></tr>\n",
       "\t<tr><td> 9        </td><td>-18.030746</td></tr>\n",
       "\t<tr><td>10        </td><td>-24.590551</td></tr>\n",
       "\t<tr><td>11        </td><td>-44.382452</td></tr>\n",
       "\t<tr><td>12        </td><td>-47.521185</td></tr>\n",
       "\t<tr><td>13        </td><td>-46.889764</td></tr>\n",
       "\t<tr><td>14        </td><td>-49.766779</td></tr>\n",
       "\t<tr><td>15        </td><td>-42.970754</td></tr>\n",
       "\t<tr><td>16        </td><td>-46.401160</td></tr>\n",
       "\t<tr><td>17        </td><td>-54.720472</td></tr>\n",
       "\t<tr><td>18        </td><td>-48.834646</td></tr>\n",
       "\t<tr><td>19        </td><td>-39.732846</td></tr>\n",
       "\t<tr><td>20        </td><td>-34.769404</td></tr>\n",
       "\t<tr><td>21        </td><td>-23.642295</td></tr>\n",
       "\t<tr><td>22        </td><td>-16.129359</td></tr>\n",
       "\t<tr><td>23        </td><td>-13.874016</td></tr>\n",
       "\t<tr><td>24        </td><td> -9.425197</td></tr>\n",
       "\t<tr><td>25        </td><td> -6.656918</td></tr>\n",
       "\t<tr><td>26        </td><td> -2.559618</td></tr>\n",
       "\t<tr><td>27        </td><td> -0.231721</td></tr>\n",
       "\t<tr><td>28        </td><td>  2.600112</td></tr>\n",
       "\t<tr><td>29        </td><td>  6.042745</td></tr>\n",
       "\t<tr><td>30        </td><td>  8.066367</td></tr>\n",
       "\t<tr><td>31        </td><td> 12.145107</td></tr>\n",
       "\t<tr><td>32        </td><td> 20.114736</td></tr>\n",
       "\t<tr><td>33        </td><td> 19.947159</td></tr>\n",
       "\t<tr><td>34        </td><td> 15.765318</td></tr>\n",
       "\t<tr><td>35        </td><td>  8.962047</td></tr>\n",
       "\t<tr><td>36        </td><td>  6.454911</td></tr>\n",
       "\t<tr><td>37        </td><td>  5.104697</td></tr>\n",
       "\t<tr><td>38        </td><td>  1.772216</td></tr>\n",
       "\t<tr><td>39        </td><td> -2.707537</td></tr>\n",
       "\t<tr><td>40        </td><td> -5.645669</td></tr>\n",
       "\t<tr><td>41        </td><td> -7.380765</td></tr>\n",
       "\t<tr><td>42        </td><td> -8.617548</td></tr>\n",
       "\t<tr><td>43        </td><td>-11.868954</td></tr>\n",
       "\t<tr><td>44        </td><td>-14.725534</td></tr>\n",
       "\t<tr><td>45        </td><td>-20.695163</td></tr>\n",
       "\t<tr><td>46        </td><td>-25.788526</td></tr>\n",
       "\t<tr><td>47        </td><td>-26.208099</td></tr>\n",
       "\t<tr><td>48        </td><td>-24.011249</td></tr>\n",
       "\t<tr><td>49        </td><td>-23.545557</td></tr>\n",
       "\t<tr><td>50        </td><td>-15.434196</td></tr>\n",
       "\t<tr><td>51        </td><td> -5.888639</td></tr>\n",
       "\t<tr><td>52        </td><td>-32.886952</td></tr>\n",
       "\t<tr><td>53        </td><td>-28.666667</td></tr>\n",
       "</tbody>\n",
       "</table>\n"
      ],
      "text/latex": [
       "\\begin{tabular}{r|ll}\n",
       " week & retail\\_and\\_recreation\\_percent\\_change\\_from\\_baseline\\\\\n",
       "\\hline\n",
       "\t  1         & -38.790776\\\\\n",
       "\t  2         & -30.595613\\\\\n",
       "\t  3         & -31.397075\\\\\n",
       "\t  4         & -30.713723\\\\\n",
       "\t  5         & -25.446007\\\\\n",
       "\t  6         & -22.491564\\\\\n",
       "\t  7         & -16.158355\\\\\n",
       "\t  8         & -14.163480\\\\\n",
       "\t  9         & -18.030746\\\\\n",
       "\t 10         & -24.590551\\\\\n",
       "\t 11         & -44.382452\\\\\n",
       "\t 12         & -47.521185\\\\\n",
       "\t 13         & -46.889764\\\\\n",
       "\t 14         & -49.766779\\\\\n",
       "\t 15         & -42.970754\\\\\n",
       "\t 16         & -46.401160\\\\\n",
       "\t 17         & -54.720472\\\\\n",
       "\t 18         & -48.834646\\\\\n",
       "\t 19         & -39.732846\\\\\n",
       "\t 20         & -34.769404\\\\\n",
       "\t 21         & -23.642295\\\\\n",
       "\t 22         & -16.129359\\\\\n",
       "\t 23         & -13.874016\\\\\n",
       "\t 24         &  -9.425197\\\\\n",
       "\t 25         &  -6.656918\\\\\n",
       "\t 26         &  -2.559618\\\\\n",
       "\t 27         &  -0.231721\\\\\n",
       "\t 28         &   2.600112\\\\\n",
       "\t 29         &   6.042745\\\\\n",
       "\t 30         &   8.066367\\\\\n",
       "\t 31         &  12.145107\\\\\n",
       "\t 32         &  20.114736\\\\\n",
       "\t 33         &  19.947159\\\\\n",
       "\t 34         &  15.765318\\\\\n",
       "\t 35         &   8.962047\\\\\n",
       "\t 36         &   6.454911\\\\\n",
       "\t 37         &   5.104697\\\\\n",
       "\t 38         &   1.772216\\\\\n",
       "\t 39         &  -2.707537\\\\\n",
       "\t 40         &  -5.645669\\\\\n",
       "\t 41         &  -7.380765\\\\\n",
       "\t 42         &  -8.617548\\\\\n",
       "\t 43         & -11.868954\\\\\n",
       "\t 44         & -14.725534\\\\\n",
       "\t 45         & -20.695163\\\\\n",
       "\t 46         & -25.788526\\\\\n",
       "\t 47         & -26.208099\\\\\n",
       "\t 48         & -24.011249\\\\\n",
       "\t 49         & -23.545557\\\\\n",
       "\t 50         & -15.434196\\\\\n",
       "\t 51         &  -5.888639\\\\\n",
       "\t 52         & -32.886952\\\\\n",
       "\t 53         & -28.666667\\\\\n",
       "\\end{tabular}\n"
      ],
      "text/markdown": [
       "\n",
       "| week | retail_and_recreation_percent_change_from_baseline |\n",
       "|---|---|\n",
       "|  1         | -38.790776 |\n",
       "|  2         | -30.595613 |\n",
       "|  3         | -31.397075 |\n",
       "|  4         | -30.713723 |\n",
       "|  5         | -25.446007 |\n",
       "|  6         | -22.491564 |\n",
       "|  7         | -16.158355 |\n",
       "|  8         | -14.163480 |\n",
       "|  9         | -18.030746 |\n",
       "| 10         | -24.590551 |\n",
       "| 11         | -44.382452 |\n",
       "| 12         | -47.521185 |\n",
       "| 13         | -46.889764 |\n",
       "| 14         | -49.766779 |\n",
       "| 15         | -42.970754 |\n",
       "| 16         | -46.401160 |\n",
       "| 17         | -54.720472 |\n",
       "| 18         | -48.834646 |\n",
       "| 19         | -39.732846 |\n",
       "| 20         | -34.769404 |\n",
       "| 21         | -23.642295 |\n",
       "| 22         | -16.129359 |\n",
       "| 23         | -13.874016 |\n",
       "| 24         |  -9.425197 |\n",
       "| 25         |  -6.656918 |\n",
       "| 26         |  -2.559618 |\n",
       "| 27         |  -0.231721 |\n",
       "| 28         |   2.600112 |\n",
       "| 29         |   6.042745 |\n",
       "| 30         |   8.066367 |\n",
       "| 31         |  12.145107 |\n",
       "| 32         |  20.114736 |\n",
       "| 33         |  19.947159 |\n",
       "| 34         |  15.765318 |\n",
       "| 35         |   8.962047 |\n",
       "| 36         |   6.454911 |\n",
       "| 37         |   5.104697 |\n",
       "| 38         |   1.772216 |\n",
       "| 39         |  -2.707537 |\n",
       "| 40         |  -5.645669 |\n",
       "| 41         |  -7.380765 |\n",
       "| 42         |  -8.617548 |\n",
       "| 43         | -11.868954 |\n",
       "| 44         | -14.725534 |\n",
       "| 45         | -20.695163 |\n",
       "| 46         | -25.788526 |\n",
       "| 47         | -26.208099 |\n",
       "| 48         | -24.011249 |\n",
       "| 49         | -23.545557 |\n",
       "| 50         | -15.434196 |\n",
       "| 51         |  -5.888639 |\n",
       "| 52         | -32.886952 |\n",
       "| 53         | -28.666667 |\n",
       "\n"
      ],
      "text/plain": [
       "   week retail_and_recreation_percent_change_from_baseline\n",
       "1   1   -38.790776                                        \n",
       "2   2   -30.595613                                        \n",
       "3   3   -31.397075                                        \n",
       "4   4   -30.713723                                        \n",
       "5   5   -25.446007                                        \n",
       "6   6   -22.491564                                        \n",
       "7   7   -16.158355                                        \n",
       "8   8   -14.163480                                        \n",
       "9   9   -18.030746                                        \n",
       "10 10   -24.590551                                        \n",
       "11 11   -44.382452                                        \n",
       "12 12   -47.521185                                        \n",
       "13 13   -46.889764                                        \n",
       "14 14   -49.766779                                        \n",
       "15 15   -42.970754                                        \n",
       "16 16   -46.401160                                        \n",
       "17 17   -54.720472                                        \n",
       "18 18   -48.834646                                        \n",
       "19 19   -39.732846                                        \n",
       "20 20   -34.769404                                        \n",
       "21 21   -23.642295                                        \n",
       "22 22   -16.129359                                        \n",
       "23 23   -13.874016                                        \n",
       "24 24    -9.425197                                        \n",
       "25 25    -6.656918                                        \n",
       "26 26    -2.559618                                        \n",
       "27 27    -0.231721                                        \n",
       "28 28     2.600112                                        \n",
       "29 29     6.042745                                        \n",
       "30 30     8.066367                                        \n",
       "31 31    12.145107                                        \n",
       "32 32    20.114736                                        \n",
       "33 33    19.947159                                        \n",
       "34 34    15.765318                                        \n",
       "35 35     8.962047                                        \n",
       "36 36     6.454911                                        \n",
       "37 37     5.104697                                        \n",
       "38 38     1.772216                                        \n",
       "39 39    -2.707537                                        \n",
       "40 40    -5.645669                                        \n",
       "41 41    -7.380765                                        \n",
       "42 42    -8.617548                                        \n",
       "43 43   -11.868954                                        \n",
       "44 44   -14.725534                                        \n",
       "45 45   -20.695163                                        \n",
       "46 46   -25.788526                                        \n",
       "47 47   -26.208099                                        \n",
       "48 48   -24.011249                                        \n",
       "49 49   -23.545557                                        \n",
       "50 50   -15.434196                                        \n",
       "51 51    -5.888639                                        \n",
       "52 52   -32.886952                                        \n",
       "53 53   -28.666667                                        "
      ]
     },
     "metadata": {},
     "output_type": "display_data"
    }
   ],
   "source": [
    "tmp"
   ]
  },
  {
   "cell_type": "code",
   "execution_count": null,
   "metadata": {
    "vscode": {
     "languageId": "r"
    }
   },
   "outputs": [],
   "source": []
  }
 ],
 "metadata": {
  "kernelspec": {
   "display_name": "R",
   "language": "R",
   "name": "ir"
  },
  "language_info": {
   "codemirror_mode": "r",
   "file_extension": ".r",
   "mimetype": "text/x-r-source",
   "name": "R",
   "pygments_lexer": "r",
   "version": "3.6.1"
  },
  "orig_nbformat": 4
 },
 "nbformat": 4,
 "nbformat_minor": 2
}
